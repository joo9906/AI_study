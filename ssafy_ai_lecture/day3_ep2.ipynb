{
 "cells": [
  {
   "cell_type": "markdown",
   "id": "edb6411e",
   "metadata": {},
   "source": [
    "# 한국어 라우팅 벤치: TF‑IDF와 gensim Word2Vec 학습 및 평가\n",
    "\n",
    "이 노트북은 다음을 포함합니다.\n",
    "\n",
    "1. 데이터 로드, 학습/검증 분할\n",
    "2. TF‑IDF 기반 분류기 학습과 평가\n",
    "3. gensim Word2Vec로 문서 임베딩 생성 후 분류기 학습과 평가\n",
    "4. 사용자 제공 휴리스틱 라우터 코드로 비교 평가 및 시각화\n",
    "\n",
    "주의: 이 환경에는 `gensim`이 없을 수 있습니다. 없으면 Word2Vec 셀은 건너뜁니다."
   ]
  },
  {
   "cell_type": "code",
   "execution_count": 1,
   "id": "cf714c99",
   "metadata": {},
   "outputs": [
    {
     "name": "stdout",
     "output_type": "stream",
     "text": [
      "Loaded shape: (14703, 5)\n",
      "                                            question subject difficulty  \\\n",
      "0  On $\\triangle ABC$ points $A,D,E$, and $B$ lie...    math       hard   \n",
      "1  There are $8!=40320$ eight-digit positive inte...    math       hard   \n",
      "2  The twelve letters $A,B,C,D,E,F,G,H,I,J,K$, an...    math       hard   \n",
      "3  The parabola with equation $y=x^{2}-4$ is rota...    math       hard   \n",
      "4  The set of points in 3-dimensional coordinate ...    math       hard   \n",
      "\n",
      "  language route_rule  \n",
      "0       en         M7  \n",
      "1       en         M7  \n",
      "2       en         M7  \n",
      "3       en         M7  \n",
      "4       en         M7  \n"
     ]
    }
   ],
   "source": [
    "\n",
    "# 환경 설정과 데이터 로드\n",
    "import re, random, json, types\n",
    "import numpy as np\n",
    "import pandas as pd\n",
    "from pathlib import Path\n",
    "\n",
    "CSV_PATH = Path(\"train_koen_router_bench.csv\")\n",
    "assert CSV_PATH.exists(), f\"CSV not found at {CSV_PATH}\"\n",
    "\n",
    "df = pd.read_csv(CSV_PATH)\n",
    "print(\"Loaded shape:\", df.shape)\n",
    "print(df.head())\n"
   ]
  },
  {
   "cell_type": "code",
   "execution_count": 2,
   "id": "3e658784",
   "metadata": {},
   "outputs": [
    {
     "name": "stdout",
     "output_type": "stream",
     "text": [
      "Using columns -> text: question label: route_rule\n"
     ]
    },
    {
     "data": {
      "text/plain": [
       "(11762, 2941)"
      ]
     },
     "execution_count": 2,
     "metadata": {},
     "output_type": "execute_result"
    }
   ],
   "source": [
    "\n",
    "# 텍스트/라벨 컬럼 자동 감지 및 분할\n",
    "from sklearn.model_selection import train_test_split\n",
    "\n",
    "text_col = \"question\" if \"question\" in df.columns else df.columns[0]\n",
    "label_col = \"route_rule\" if \"route_rule\" in df.columns else df.columns[-1]\n",
    "print(\"Using columns -> text:\", text_col, \"label:\", label_col)\n",
    "\n",
    "df = df[[text_col, label_col]].dropna().reset_index(drop=True)\n",
    "X = df[text_col].astype(str).values\n",
    "y = df[label_col].values\n",
    "\n",
    "X_train, X_test, y_train, y_test = train_test_split(\n",
    "    X, y, test_size=0.2, random_state=42, stratify=y\n",
    ")\n",
    "len(X_train), len(X_test)\n"
   ]
  },
  {
   "cell_type": "markdown",
   "id": "055304b4",
   "metadata": {},
   "source": [
    "## TF‑IDF 분류기"
   ]
  },
  {
   "cell_type": "code",
   "execution_count": 3,
   "id": "751a0272",
   "metadata": {},
   "outputs": [
    {
     "name": "stdout",
     "output_type": "stream",
     "text": [
      "TF‑IDF char Accuracy: 0.99081944916695\n",
      "              precision    recall  f1-score   support\n",
      "\n",
      "         B13       0.99      0.92      0.95       254\n",
      "          K7       1.00      1.00      1.00       572\n",
      "          M7       0.99      0.99      0.99       159\n",
      "         WB7       0.99      1.00      0.99      1956\n",
      "\n",
      "    accuracy                           0.99      2941\n",
      "   macro avg       0.99      0.98      0.98      2941\n",
      "weighted avg       0.99      0.99      0.99      2941\n",
      "\n",
      "TF‑IDF word Accuracy: 0.9806188371302278\n",
      "              precision    recall  f1-score   support\n",
      "\n",
      "         B13       0.96      0.83      0.89       254\n",
      "          K7       1.00      0.99      1.00       572\n",
      "          M7       0.99      0.97      0.98       159\n",
      "         WB7       0.98      1.00      0.99      1956\n",
      "\n",
      "    accuracy                           0.98      2941\n",
      "   macro avg       0.98      0.95      0.96      2941\n",
      "weighted avg       0.98      0.98      0.98      2941\n",
      "\n"
     ]
    }
   ],
   "source": [
    "\n",
    "from sklearn.pipeline import Pipeline\n",
    "from sklearn.feature_extraction.text import TfidfVectorizer\n",
    "from sklearn.svm import LinearSVC\n",
    "from sklearn.metrics import accuracy_score, classification_report\n",
    "\n",
    "# 1) char ngram 기반\n",
    "tfidf_char = Pipeline([\n",
    "    (\"tfidf\", TfidfVectorizer(analyzer=\"char\", ngram_range=(2,5), min_df=3)),\n",
    "    (\"clf\", LinearSVC())\n",
    "])\n",
    "tfidf_char.fit(X_train, y_train)\n",
    "pred_char = tfidf_char.predict(X_test)\n",
    "acc_char = accuracy_score(y_test, pred_char)\n",
    "print(\"TF‑IDF char Accuracy:\", acc_char)\n",
    "print(classification_report(y_test, pred_char))\n",
    "\n",
    "# 2) word 기반\n",
    "tfidf_word = Pipeline([\n",
    "    (\"tfidf\", TfidfVectorizer(analyzer=\"word\", token_pattern=r\"(?u)\\b\\w+\\b\", min_df=3)),\n",
    "    (\"clf\", LinearSVC())\n",
    "])\n",
    "tfidf_word.fit(X_train, y_train)\n",
    "pred_word = tfidf_word.predict(X_test)\n",
    "acc_word = accuracy_score(y_test, pred_word)\n",
    "print(\"TF‑IDF word Accuracy:\", acc_word)\n",
    "print(classification_report(y_test, pred_word))\n"
   ]
  },
  {
   "cell_type": "markdown",
   "id": "592c0a47",
   "metadata": {},
   "source": [
    "## gensim Word2Vec 분류기\n",
    "train 세트로만 Word2Vec을 학습하고, 문서 임베딩은 단어 벡터 평균으로 만듭니다."
   ]
  },
  {
   "cell_type": "code",
   "execution_count": 4,
   "id": "8d4f5e71",
   "metadata": {},
   "outputs": [
    {
     "name": "stdout",
     "output_type": "stream",
     "text": [
      "Word2Vec LinearSVC Accuracy: 0.9666780006800408\n",
      "              precision    recall  f1-score   support\n",
      "\n",
      "         B13       0.90      0.78      0.83       254\n",
      "          K7       0.99      0.98      0.99       572\n",
      "          M7       0.96      0.95      0.96       159\n",
      "         WB7       0.97      0.99      0.98      1956\n",
      "\n",
      "    accuracy                           0.97      2941\n",
      "   macro avg       0.95      0.92      0.94      2941\n",
      "weighted avg       0.97      0.97      0.97      2941\n",
      "\n"
     ]
    }
   ],
   "source": [
    "\n",
    "import re\n",
    "import numpy as np\n",
    "\n",
    "from gensim.models import Word2Vec\n",
    "\n",
    "def simple_tokenize(text: str):\n",
    "    text = re.sub(r\"[^가-힣A-Za-z0-9\\s]\", \" \", text)\n",
    "    text = re.sub(r\"\\s+\", \" \", text).strip()\n",
    "    return text.split()\n",
    "\n",
    "\n",
    "train_tokens = [simple_tokenize(t) for t in X_train]\n",
    "test_tokens  = [simple_tokenize(t) for t in X_test]\n",
    "\n",
    "w2v = Word2Vec(\n",
    "    sentences=train_tokens,\n",
    "    vector_size=100,\n",
    "    window=8,\n",
    "    min_count=5,\n",
    "    workers=4,\n",
    "    sg=0,\n",
    "    epochs=5\n",
    ")\n",
    "def doc_vec(tokens, model):\n",
    "    vecs = [model.wv[w] for w in tokens if w in model.wv]\n",
    "    if not vecs:\n",
    "        return np.zeros(model.vector_size, dtype=np.float32)\n",
    "    return np.mean(vecs, axis=0)\n",
    "\n",
    "Xtr_w2v = np.vstack([doc_vec(t, w2v) for t in train_tokens])\n",
    "Xte_w2v = np.vstack([doc_vec(t, w2v) for t in test_tokens])\n",
    "\n",
    "from sklearn.svm import LinearSVC\n",
    "from sklearn.metrics import accuracy_score, classification_report\n",
    "clf_w2v = LinearSVC()\n",
    "clf_w2v.fit(Xtr_w2v, y_train)\n",
    "pred_w2v = clf_w2v.predict(Xte_w2v)\n",
    "acc_w2v = accuracy_score(y_test, pred_w2v)\n",
    "print(\"Word2Vec LinearSVC Accuracy:\", acc_w2v)\n",
    "print(classification_report(y_test, pred_w2v))\n",
    "\n"
   ]
  },
  {
   "cell_type": "markdown",
   "id": "59970483",
   "metadata": {},
   "source": [
    "## test 셋에서 평가"
   ]
  },
  {
   "cell_type": "code",
   "execution_count": 6,
   "id": "11deef2c",
   "metadata": {},
   "outputs": [],
   "source": [
    "test = pd.read_csv(\"test_koen_router_bench_w_oracle.csv\")"
   ]
  },
  {
   "cell_type": "code",
   "execution_count": 8,
   "id": "690e00c2-7c09-4c86-b60e-3d205467d1ad",
   "metadata": {},
   "outputs": [
    {
     "data": {
      "text/html": [
       "<div>\n",
       "<style scoped>\n",
       "    .dataframe tbody tr th:only-of-type {\n",
       "        vertical-align: middle;\n",
       "    }\n",
       "\n",
       "    .dataframe tbody tr th {\n",
       "        vertical-align: top;\n",
       "    }\n",
       "\n",
       "    .dataframe thead th {\n",
       "        text-align: right;\n",
       "    }\n",
       "</style>\n",
       "<table border=\"1\" class=\"dataframe\">\n",
       "  <thead>\n",
       "    <tr style=\"text-align: right;\">\n",
       "      <th></th>\n",
       "      <th>question</th>\n",
       "      <th>subject</th>\n",
       "      <th>difficulty</th>\n",
       "      <th>language</th>\n",
       "      <th>route_rule</th>\n",
       "    </tr>\n",
       "  </thead>\n",
       "  <tbody>\n",
       "    <tr>\n",
       "      <th>0</th>\n",
       "      <td>Define pure competition.\\n1) Pure competition ...</td>\n",
       "      <td>general</td>\n",
       "      <td>medium</td>\n",
       "      <td>en</td>\n",
       "      <td>WB7</td>\n",
       "    </tr>\n",
       "    <tr>\n",
       "      <th>1</th>\n",
       "      <td>3주 전 자연분만한 37세 산모가 기운이 없고 땀이 많아서 병원에 왔다. 가만히 있...</td>\n",
       "      <td>general</td>\n",
       "      <td>medium</td>\n",
       "      <td>ko</td>\n",
       "      <td>K7</td>\n",
       "    </tr>\n",
       "    <tr>\n",
       "      <th>2</th>\n",
       "      <td>When a block of wood of mass 1 kg is held in a...</td>\n",
       "      <td>general</td>\n",
       "      <td>medium</td>\n",
       "      <td>en</td>\n",
       "      <td>WB7</td>\n",
       "    </tr>\n",
       "    <tr>\n",
       "      <th>3</th>\n",
       "      <td>Oxygenated blood is carried to the heart by wh...</td>\n",
       "      <td>general</td>\n",
       "      <td>medium</td>\n",
       "      <td>en</td>\n",
       "      <td>WB7</td>\n",
       "    </tr>\n",
       "    <tr>\n",
       "      <th>4</th>\n",
       "      <td>A landowner owned a large building in the city...</td>\n",
       "      <td>general</td>\n",
       "      <td>medium</td>\n",
       "      <td>en</td>\n",
       "      <td>WB7</td>\n",
       "    </tr>\n",
       "    <tr>\n",
       "      <th>...</th>\n",
       "      <td>...</td>\n",
       "      <td>...</td>\n",
       "      <td>...</td>\n",
       "      <td>...</td>\n",
       "      <td>...</td>\n",
       "    </tr>\n",
       "    <tr>\n",
       "      <th>2495</th>\n",
       "      <td>A chemist possessesKCl, PH_3, GeCl_4, H_2S, an...</td>\n",
       "      <td>general</td>\n",
       "      <td>medium</td>\n",
       "      <td>en</td>\n",
       "      <td>WB7</td>\n",
       "    </tr>\n",
       "    <tr>\n",
       "      <th>2496</th>\n",
       "      <td>\\(\\iint_D \\frac{|y|}{\\sqrt{(x-2)^2+y^2}}dxdy, ...</td>\n",
       "      <td>math</td>\n",
       "      <td>hard</td>\n",
       "      <td>ko</td>\n",
       "      <td>M7</td>\n",
       "    </tr>\n",
       "    <tr>\n",
       "      <th>2497</th>\n",
       "      <td>An epidemic involving 10 individuals of all ag...</td>\n",
       "      <td>general</td>\n",
       "      <td>medium</td>\n",
       "      <td>en</td>\n",
       "      <td>WB7</td>\n",
       "    </tr>\n",
       "    <tr>\n",
       "      <th>2498</th>\n",
       "      <td>An American buys an entertainment system that ...</td>\n",
       "      <td>general</td>\n",
       "      <td>medium</td>\n",
       "      <td>en</td>\n",
       "      <td>WB7</td>\n",
       "    </tr>\n",
       "    <tr>\n",
       "      <th>2499</th>\n",
       "      <td>Which of the given formulas of PL is the best...</td>\n",
       "      <td>general</td>\n",
       "      <td>medium</td>\n",
       "      <td>en</td>\n",
       "      <td>WB7</td>\n",
       "    </tr>\n",
       "  </tbody>\n",
       "</table>\n",
       "<p>2500 rows × 5 columns</p>\n",
       "</div>"
      ],
      "text/plain": [
       "                                               question  subject difficulty  \\\n",
       "0     Define pure competition.\\n1) Pure competition ...  general     medium   \n",
       "1     3주 전 자연분만한 37세 산모가 기운이 없고 땀이 많아서 병원에 왔다. 가만히 있...  general     medium   \n",
       "2     When a block of wood of mass 1 kg is held in a...  general     medium   \n",
       "3     Oxygenated blood is carried to the heart by wh...  general     medium   \n",
       "4     A landowner owned a large building in the city...  general     medium   \n",
       "...                                                 ...      ...        ...   \n",
       "2495  A chemist possessesKCl, PH_3, GeCl_4, H_2S, an...  general     medium   \n",
       "2496  \\(\\iint_D \\frac{|y|}{\\sqrt{(x-2)^2+y^2}}dxdy, ...     math       hard   \n",
       "2497  An epidemic involving 10 individuals of all ag...  general     medium   \n",
       "2498  An American buys an entertainment system that ...  general     medium   \n",
       "2499   Which of the given formulas of PL is the best...  general     medium   \n",
       "\n",
       "     language route_rule  \n",
       "0          en        WB7  \n",
       "1          ko         K7  \n",
       "2          en        WB7  \n",
       "3          en        WB7  \n",
       "4          en        WB7  \n",
       "...       ...        ...  \n",
       "2495       en        WB7  \n",
       "2496       ko         M7  \n",
       "2497       en        WB7  \n",
       "2498       en        WB7  \n",
       "2499       en        WB7  \n",
       "\n",
       "[2500 rows x 5 columns]"
      ]
     },
     "execution_count": 8,
     "metadata": {},
     "output_type": "execute_result"
    }
   ],
   "source": [
    "test"
   ]
  },
  {
   "cell_type": "code",
   "execution_count": 14,
   "id": "52dc2e5b",
   "metadata": {},
   "outputs": [
    {
     "name": "stdout",
     "output_type": "stream",
     "text": [
      "\n",
      "[TF‑IDF char] Accuracy: 0.9852\n",
      "              precision    recall  f1-score   support\n",
      "\n",
      "         B13       0.97      0.91      0.94       255\n",
      "          K7       0.99      1.00      1.00       555\n",
      "          M7       1.00      0.95      0.98       190\n",
      "         WB7       0.98      1.00      0.99      1500\n",
      "\n",
      "    accuracy                           0.99      2500\n",
      "   macro avg       0.99      0.96      0.97      2500\n",
      "weighted avg       0.99      0.99      0.98      2500\n",
      "\n"
     ]
    }
   ],
   "source": [
    "y_pred_char = tfidf_char.predict(test['question'].astype(str).values)\n",
    "print(\"\\n[TF‑IDF char] Accuracy:\", accuracy_score(test['route_rule'], y_pred_char))\n",
    "print(classification_report(test['route_rule'], y_pred_char))"
   ]
  },
  {
   "cell_type": "code",
   "execution_count": 16,
   "id": "fa65c1f0-357a-44b0-875f-ac0cdea262cf",
   "metadata": {},
   "outputs": [
    {
     "name": "stdout",
     "output_type": "stream",
     "text": [
      "\n",
      "[TF‑IDF word] Accuracy: 0.9712\n",
      "              precision    recall  f1-score   support\n",
      "\n",
      "         B13       0.95      0.79      0.86       255\n",
      "          K7       1.00      0.99      0.99       555\n",
      "          M7       1.00      0.95      0.97       190\n",
      "         WB7       0.96      1.00      0.98      1500\n",
      "\n",
      "    accuracy                           0.97      2500\n",
      "   macro avg       0.98      0.93      0.95      2500\n",
      "weighted avg       0.97      0.97      0.97      2500\n",
      "\n"
     ]
    }
   ],
   "source": [
    "y_pred_word = tfidf_word.predict(test['question'].astype(str).values)\n",
    "print(\"\\n[TF‑IDF word] Accuracy:\", accuracy_score(test['route_rule'], y_pred_word))\n",
    "print(classification_report(test['route_rule'], y_pred_word))"
   ]
  },
  {
   "cell_type": "code",
   "execution_count": 18,
   "id": "718c8722-f98e-4fec-a8a2-6990b1ed5e91",
   "metadata": {},
   "outputs": [
    {
     "name": "stdout",
     "output_type": "stream",
     "text": [
      "\n",
      "[Word2Vec] Accuracy: 0.9584\n",
      "              precision    recall  f1-score   support\n",
      "\n",
      "         B13       0.89      0.77      0.83       255\n",
      "          K7       0.99      0.98      0.99       555\n",
      "          M7       0.98      0.92      0.95       190\n",
      "         WB7       0.96      0.99      0.97      1500\n",
      "\n",
      "    accuracy                           0.96      2500\n",
      "   macro avg       0.95      0.91      0.93      2500\n",
      "weighted avg       0.96      0.96      0.96      2500\n",
      "\n"
     ]
    }
   ],
   "source": [
    "test_tokens = [ simple_tokenize(t) for t in test['question'].astype(str).values ]\n",
    "def _doc_vec(tokens, model):\n",
    "    vecs = [model.wv[w] for w in tokens if w in model.wv]\n",
    "    if not vecs:\n",
    "        return np.zeros(model.vector_size, dtype=np.float32)\n",
    "    return np.mean(vecs, axis=0)\n",
    "Xte_w2v_ext = np.vstack([_doc_vec(t, w2v) for t in test_tokens])\n",
    "y_pred_w2v_ext = clf_w2v.predict(Xte_w2v_ext)\n",
    "print(\"\\n[Word2Vec] Accuracy:\", accuracy_score(test['route_rule'], y_pred_w2v_ext))\n",
    "print(classification_report(test['route_rule'], y_pred_w2v_ext))"
   ]
  },
  {
   "cell_type": "markdown",
   "id": "28b9bd3b-f5b6-42e6-a108-a100a8c48f67",
   "metadata": {},
   "source": [
    "## LiteLLM과 연결"
   ]
  },
  {
   "cell_type": "code",
   "execution_count": 24,
   "id": "ff498cdc-1353-49f7-8a5e-9d532e50a794",
   "metadata": {},
   "outputs": [],
   "source": [
    "mmap = {\n",
    "    \"B13\": \"openrouter/qwen/qwen3-14b:free\",\n",
    "    \"K7\": \"openrouter/google/gemma-3-12b-it:free\",\n",
    "    \"M7\": \"openrouter/meta-llama/llama-3.3-8b-instruct:free\",\n",
    "    \"WB7\": \"openrouter/google/gemma-3n-e4b-it:free\"\n",
    "}\n",
    "\n",
    "question = \"씨 감자를 심으려 한다. 씨감자의 무게가 80g이라면 몇 조각으로 자르는 것이 가장 좋은가?\"\n",
    "pred_model = tfidf_word.predict([question])[0]\n",
    "\n",
    "or_model = mmap[pred_model]"
   ]
  },
  {
   "cell_type": "code",
   "execution_count": 27,
   "id": "1a6582bc-e8a8-447a-aca3-071d513ad187",
   "metadata": {},
   "outputs": [],
   "source": [
    "from litellm import completion\n",
    "import os\n",
    "\n",
    "## set ENV variables\n",
    "os.environ[\"OPENROUTER_API_KEY\"] = \"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\"\n",
    "\n",
    "response = completion(\n",
    "  model=or_model,\n",
    "  messages=[{ \"content\": question,\"role\": \"user\"}]\n",
    ")"
   ]
  },
  {
   "cell_type": "code",
   "execution_count": 30,
   "id": "f1a05944-1b25-4d1e-9bf4-51edf41d82bd",
   "metadata": {},
   "outputs": [
    {
     "name": "stdout",
     "output_type": "stream",
     "text": [
      "씨감자를 몇 조각으로 자르는 것이 가장 좋을지는 여러 요인에 따라 달라집니다. 일반적으로 다음과 같은 사항들을 고려해야 합니다.\n",
      "\n",
      "**1. 감자 품종:**\n",
      "\n",
      "*   **대형 품종:** 덩이뿌리가 큰 품종은 2~3개 조각으로 나누는 것이 좋습니다.\n",
      "*   **소형 품종:** 덩이뿌리가 작은 품종은 1개 조각으로 심거나, 2개 조각으로 나누어도 괜찮습니다.\n",
      "\n",
      "**2. 씨감자 무게:**\n",
      "\n",
      "*   80g 씨감자는 일반적으로 1~3개 조각으로 나누어 심습니다.\n",
      "*   **1개 조각:** 씨감자 무게가 80g이라면, 1개 조각으로 심는 것이 가장 좋습니다.\n",
      "*   **2개 조각:** 씨감자를 2개 조각으로 나누려면, 각 조각의 무게가 40g 정도가 되도록 자릅니다.\n",
      "*   **3개 조각:** 씨감자를 3개 조각으로 나누려면, 각 조각의 무게가 약 27g 정도가 되도록 자릅니다.\n",
      "\n",
      "**3. 눈 (싹):**\n",
      "\n",
      "*   각 조각에 눈이 1~3개 정도 포함되도록 자르는 것이 좋습니다. 눈은 싹이 트는 부분으로, 눈이 없으면 발아가 되지 않습니다.\n",
      "*   너무 많은 눈이 한 조각에 있으면, 싹이 여러 방향으로 나와 생육이 약해질 수 있습니다.\n",
      "\n",
      "**4. 상처:**\n",
      "\n",
      "*   씨감자를 자를 때 상처가 나지 않도록 주의해야 합니다. 상처 부위는 병원균에 감염될 가능성이 높습니다.\n",
      "*   상처가 났을 경우, 톱밥이나 나무가루 등으로 상처 부위를 덮어주면 감염을 예방할 수 있습니다.\n",
      "\n",
      "**일반적인 권장 사항:**\n",
      "\n",
      "*   80g 씨감자는 **1개 조각으로 심는 것이 가장 좋습니다.**\n",
      "*   만약 2개 조각으로 나누어 심을 경우, 각 조각의 무게가 40g 정도가 되도록 하고, 각 조각에 눈이 1~2개 포함되도록 합니다.\n",
      "\n",
      "**참고:**\n",
      "\n",
      "*   씨감자 품종, 재배 환경, 농가의 경험 등에 따라 적절한 조각 개수가 달라질 수 있습니다.\n",
      "*   씨감자 조각을 심기 전에 1~2주 정도 따뜻하고 밝은 곳에 보관하여 발아를 촉진하는 것이 좋습니다.\n",
      "\n",
      "**추가 정보:**\n",
      "\n",
      "*   씨감자 심는 방법: [https://m.blog.naver.com/PostView.naver?blogId=koreagardening&logNo=222999999999&proxyReferer=https:%2F%2Fwww.google.com%2F](https://m.blog.naver.com/PostView.naver?blogId=koreagardening&logNo=222999999999&proxyReferer=https:%2F%2Fwww.google.com%2F)\n"
     ]
    }
   ],
   "source": [
    "print(response.choices[0].message.content)"
   ]
  },
  {
   "cell_type": "code",
   "execution_count": null,
   "id": "10543483-3ddf-4511-8d3b-d8e30d86274a",
   "metadata": {},
   "outputs": [],
   "source": []
  }
 ],
 "metadata": {
  "kernelspec": {
   "display_name": "Python 3 (ipykernel)",
   "language": "python",
   "name": "python3"
  },
  "language_info": {
   "codemirror_mode": {
    "name": "ipython",
    "version": 3
   },
   "file_extension": ".py",
   "mimetype": "text/x-python",
   "name": "python",
   "nbconvert_exporter": "python",
   "pygments_lexer": "ipython3",
   "version": "3.11.11"
  }
 },
 "nbformat": 4,
 "nbformat_minor": 5
}
