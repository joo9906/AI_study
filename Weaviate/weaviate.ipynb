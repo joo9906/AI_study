{
 "cells": [
  {
   "cell_type": "markdown",
   "id": "234bcf8b",
   "metadata": {},
   "source": [
    "# Weaviate를 사용하기 위해 초기 세팅 관련한 파일"
   ]
  },
  {
   "cell_type": "code",
   "execution_count": null,
   "id": "007afb00",
   "metadata": {},
   "outputs": [],
   "source": [
    "%pip install -U weaviate-client"
   ]
  },
  {
   "cell_type": "code",
   "execution_count": null,
   "id": "e70205c2",
   "metadata": {},
   "outputs": [],
   "source": [
    "import sys, os\n",
    "from dotenv import load_dotenv\n",
    "load_dotenv()\n",
    "\n",
    "API_KEY = os.getenv(\"GMS_API_KEY\")\n",
    "EMBEDDING_MODEL = os.getenv(\"EMBEDDING_MODEL\")\n",
    "EMBEDDING_URL = os.get_env(\"EMBEDDING_URL\")"
   ]
  }
 ],
 "metadata": {
  "kernelspec": {
   "display_name": "Kcvenv (3.10.10)",
   "language": "python",
   "name": "python3"
  },
  "language_info": {
   "name": "python",
   "version": "3.10.10"
  }
 },
 "nbformat": 4,
 "nbformat_minor": 5
}
